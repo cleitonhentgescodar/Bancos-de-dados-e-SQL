{
  "nbformat": 4,
  "nbformat_minor": 0,
  "metadata": {
    "colab": {
      "provenance": []
    },
    "kernelspec": {
      "name": "python3",
      "display_name": "Python 3"
    },
    "language_info": {
      "name": "python"
    }
  },
  "cells": [
    {
      "cell_type": "markdown",
      "source": [
        "# Bancos de Dados + SQL"
      ],
      "metadata": {
        "id": "4T5dCtwYXFS0"
      }
    },
    {
      "cell_type": "markdown",
      "source": [
        "Para nossa atividade inicial de SQL trabalharemos com uma base de vendas.\n",
        "Abaixo temos o ambiente de preparo para trabalharmos com o SQL lite."
      ],
      "metadata": {
        "id": "tGub_MhcXTfu"
      }
    },
    {
      "cell_type": "code",
      "execution_count": 2,
      "metadata": {
        "id": "eQtWi0CfXCPn"
      },
      "outputs": [],
      "source": [
        "#Importando a biblioteca necessária\n",
        "import sqlite3\n",
        "import pandas as pd"
      ]
    },
    {
      "cell_type": "code",
      "source": [
        "df_vendas = pd.read_csv(\"/content/TB_VENDAS_TAREFA .csv\", delimiter=';')"
      ],
      "metadata": {
        "id": "yKsW2EEpXQTK"
      },
      "execution_count": 4,
      "outputs": []
    },
    {
      "cell_type": "code",
      "source": [
        "conn = sqlite3.connect(':memory:')\n",
        "df_vendas.to_sql('tb_vendas', conn, index=False, if_exists='replace')"
      ],
      "metadata": {
        "colab": {
          "base_uri": "https://localhost:8080/"
        },
        "id": "vbdvMKZgXtT5",
        "outputId": "cb8a9dcd-4b1a-4f19-b803-7ec23823be86"
      },
      "execution_count": 8,
      "outputs": [
        {
          "output_type": "execute_result",
          "data": {
            "text/plain": [
              "24"
            ]
          },
          "metadata": {},
          "execution_count": 8
        }
      ]
    },
    {
      "cell_type": "markdown",
      "source": [],
      "metadata": {
        "id": "IfwzfXdGlRmW"
      }
    },
    {
      "cell_type": "code",
      "source": [
        "def run_query(query):\n",
        "    return pd.read_sql_query(query, conn)"
      ],
      "metadata": {
        "id": "Z3-elg3aXuiM"
      },
      "execution_count": 9,
      "outputs": []
    },
    {
      "cell_type": "markdown",
      "source": [
        "# 1) Faça uma consulta que retorne todos os dados da nossa tabela de vendas, com todas linhas e todas colunas.\n"
      ],
      "metadata": {
        "id": "Z_EFXuNLXz7m"
      }
    },
    {
      "cell_type": "code",
      "source": [
        "query = \"SELECT * FROM tb_vendas\"\n",
        "result_df = run_query(query)\n",
        "print(result_df)"
      ],
      "metadata": {
        "id": "XQr_MBvmb4yC",
        "colab": {
          "base_uri": "https://localhost:8080/"
        },
        "outputId": "da67ad01-73cc-47b1-e735-8c69548db4bc"
      },
      "execution_count": 10,
      "outputs": [
        {
          "output_type": "stream",
          "name": "stdout",
          "text": [
            "    ID_COMPRA  ID_CLIENTE   PRODUTO VALOR_UNID  UNIDADES\n",
            "0        1247        9081  CAMISETA       34,5         2\n",
            "1        1248        9081     CALCA       89,9         1\n",
            "2        1250        9560  CAMISETA       34,5         1\n",
            "3        1249        9630   BERMUDA       79,5         2\n",
            "4        1251        9425  CAMISETA       34,5         3\n",
            "5        1252        9425   VESTIDO        102         1\n",
            "6        1253        9481     CALCA       89,9         2\n",
            "7        1254        9785      MEIA       25,9         1\n",
            "8        1255        9786     CALCA       89,9         2\n",
            "9        1256        9787   VESTIDO        102         1\n",
            "10       1257        9788     CALCA       89,9         2\n",
            "11       1258        9789  CAMISETA       34,5         3\n",
            "12       1259        9790  CAMISETA       34,5         1\n",
            "13       1260        9791   BERMUDA       79,5         2\n",
            "14       1261        9792  CAMISETA       34,5         2\n",
            "15       1262        9793     CALCA       89,9         2\n",
            "16       1263        9794     CALCA       89,9         1\n",
            "17       1264        9795   BERMUDA       79,5         2\n",
            "18       1265        9796  CAMISETA       34,5         4\n",
            "19       1266        9797  CAMISETA       34,5         1\n",
            "20       1267        9798   VESTIDO        102         2\n",
            "21       1268        9799      MEIA       25,9         3\n",
            "22       1269        9800  CAMISETA       34,5         2\n",
            "23       1270        9801     CALCA       89,9         1\n"
          ]
        }
      ]
    },
    {
      "cell_type": "markdown",
      "source": [
        "# 2) Faça uma consulta que retorne apenas 10 linhas da coluna produto.\n"
      ],
      "metadata": {
        "id": "nyhYEkRLYMNY"
      }
    },
    {
      "cell_type": "code",
      "source": [
        "query = \"SELECT PRODUTO FROM tb_vendas LIMIT 11\" # A primeira linha é o cabecalho.\n",
        "result_df = run_query(query)\n",
        "print(result_df)"
      ],
      "metadata": {
        "id": "LfKnVQUCYLxE",
        "colab": {
          "base_uri": "https://localhost:8080/"
        },
        "outputId": "056c8e9e-1ef9-434b-c48c-2e1967a86c66"
      },
      "execution_count": 11,
      "outputs": [
        {
          "output_type": "stream",
          "name": "stdout",
          "text": [
            "     PRODUTO\n",
            "0   CAMISETA\n",
            "1      CALCA\n",
            "2   CAMISETA\n",
            "3    BERMUDA\n",
            "4   CAMISETA\n",
            "5    VESTIDO\n",
            "6      CALCA\n",
            "7       MEIA\n",
            "8      CALCA\n",
            "9    VESTIDO\n",
            "10     CALCA\n"
          ]
        }
      ]
    },
    {
      "cell_type": "markdown",
      "source": [
        "# 3) Faça uma consulta que retorne a média do valor por unidade e também das unidades vendidas. Não se esqueça de renomear o nome das colunas ao cria-las."
      ],
      "metadata": {
        "id": "-hqcrP6CYiGF"
      }
    },
    {
      "cell_type": "code",
      "source": [
        "query = \"SELECT AVG(VALOR_UNID) AS ticket_médio FROM tb_vendas\"\n",
        "result_df = run_query(query)\n",
        "print(result_df)\n"
      ],
      "metadata": {
        "id": "v1aJMTkMYhm4",
        "colab": {
          "base_uri": "https://localhost:8080/"
        },
        "outputId": "de3689c4-41bb-4fdc-e243-9642a9dbf22f"
      },
      "execution_count": 12,
      "outputs": [
        {
          "output_type": "stream",
          "name": "stdout",
          "text": [
            "   ticket_médio\n",
            "0     63.416667\n"
          ]
        }
      ]
    },
    {
      "cell_type": "code",
      "source": [
        "query = \"SELECT SUM(UNIDADES) AS VENDAS_DE_PEÇAS FROM tb_vendas\"\n",
        "result_df = run_query(query)\n",
        "print(result_df)"
      ],
      "metadata": {
        "colab": {
          "base_uri": "https://localhost:8080/"
        },
        "id": "Ak2PB_CBpWml",
        "outputId": "d66e1447-a6db-4c5a-90c8-75be3f785464"
      },
      "execution_count": 13,
      "outputs": [
        {
          "output_type": "stream",
          "name": "stdout",
          "text": [
            "   VENDAS_DE_PEÇAS\n",
            "0               44\n"
          ]
        }
      ]
    },
    {
      "cell_type": "code",
      "source": [
        "query = \"\"\"\n",
        "SELECT\n",
        "    PRODUTO,\n",
        "    SUM(UNIDADES * REPLACE(VALOR_UNID, ',', '.')) AS FATURAMENTO_TOTAL\n",
        "FROM\n",
        "    tb_vendas\n",
        "GROUP BY\n",
        "    PRODUTO;\n",
        "\"\"\"\n",
        "result_df = run_query(query)\n",
        "print(result_df)"
      ],
      "metadata": {
        "colab": {
          "base_uri": "https://localhost:8080/"
        },
        "id": "Sbn63BZAqo_9",
        "outputId": "8fbaa76a-22b3-40a8-8a5b-c2b6fdcb38e2"
      },
      "execution_count": 14,
      "outputs": [
        {
          "output_type": "stream",
          "name": "stdout",
          "text": [
            "    PRODUTO  FATURAMENTO_TOTAL\n",
            "0   BERMUDA              477.0\n",
            "1     CALCA              988.9\n",
            "2  CAMISETA              655.5\n",
            "3      MEIA              103.6\n",
            "4   VESTIDO              408.0\n"
          ]
        }
      ]
    },
    {
      "cell_type": "markdown",
      "source": [
        "# 4) Note que na nossa tabela não temos o total de valor gasto por compra, temos o valor do produto e a quantidade vendida, para termos o valor total precisamos multiplicar essas duas colunas e para multiplicar colunas usamos o *.\n",
        "# Faça uma consulta que retorne a coluna ID_COMPRA, ID_CLIENTE e o valor total gasto.\n",
        "\n",
        "Ex: SELECT TICKET_MEDIO*UNIDADE FROM TB_EXEMPLO"
      ],
      "metadata": {
        "id": "UJUIsVjAY8Jz"
      }
    },
    {
      "cell_type": "code",
      "source": [
        "query = \"\"\"SELECT ID_COMPRA , ID_CLIENTE ,UNIDADES * CAST(REPLACE(VALOR_UNID, ',', '.') AS REAL) AS VALOR_TOTAL\n",
        "FROM tb_vendas; \"\"\"\n",
        "result_df = run_query(query)\n",
        "print(result_df)"
      ],
      "metadata": {
        "colab": {
          "base_uri": "https://localhost:8080/"
        },
        "id": "AwOKYusZsjVW",
        "outputId": "56cd5927-d8bb-4e4f-a3a1-049f48b829f8"
      },
      "execution_count": 15,
      "outputs": [
        {
          "output_type": "stream",
          "name": "stdout",
          "text": [
            "    ID_COMPRA  ID_CLIENTE  VALOR_TOTAL\n",
            "0        1247        9081         69.0\n",
            "1        1248        9081         89.9\n",
            "2        1250        9560         34.5\n",
            "3        1249        9630        159.0\n",
            "4        1251        9425        103.5\n",
            "5        1252        9425        102.0\n",
            "6        1253        9481        179.8\n",
            "7        1254        9785         25.9\n",
            "8        1255        9786        179.8\n",
            "9        1256        9787        102.0\n",
            "10       1257        9788        179.8\n",
            "11       1258        9789        103.5\n",
            "12       1259        9790         34.5\n",
            "13       1260        9791        159.0\n",
            "14       1261        9792         69.0\n",
            "15       1262        9793        179.8\n",
            "16       1263        9794         89.9\n",
            "17       1264        9795        159.0\n",
            "18       1265        9796        138.0\n",
            "19       1266        9797         34.5\n",
            "20       1267        9798        204.0\n",
            "21       1268        9799         77.7\n",
            "22       1269        9800         69.0\n",
            "23       1270        9801         89.9\n"
          ]
        }
      ]
    },
    {
      "cell_type": "markdown",
      "source": [
        "# 5) [DESAFIO] Faça uma consulta que traz a média do valor total gasto que foi calculado no exercício anterior. Note que não queremos a média por pedido e sim a média total, apenas essa informação deve vir na consulta."
      ],
      "metadata": {
        "id": "tuTDx7W3Zxlp"
      }
    },
    {
      "cell_type": "code",
      "source": [
        "query = \"SELECT AVG(UNIDADES * CAST(REPLACE(VALOR_UNID, ',', '.') AS REAL)) AS MEDIA_VALOR_TOTAL FROM tb_vendas\"\n",
        "result_df = run_query(query)\n",
        "# Exibir o resultado\n",
        "print(result_df)"
      ],
      "metadata": {
        "id": "UPUskwJoaEgy",
        "colab": {
          "base_uri": "https://localhost:8080/"
        },
        "outputId": "e03def30-1b44-4d57-b06b-8b5b07a73570"
      },
      "execution_count": 16,
      "outputs": [
        {
          "output_type": "stream",
          "name": "stdout",
          "text": [
            "   MEDIA_VALOR_TOTAL\n",
            "0         109.708333\n"
          ]
        }
      ]
    },
    {
      "cell_type": "markdown",
      "source": [
        "#6) Diferencie com suas palavras, considerando o repertório que tem criado da área de dados, a utilizadade do SQL e do Python para ciência de dados.\n",
        "Minimo 2 linhas.\n",
        "\n",
        "O python é utilizado para analisar, visualizar e automatizar dados enquanto banco de dados tem funções para acessar, consultar e manipular dados em bancos.\n"
      ],
      "metadata": {
        "id": "0ezDHHigaONG"
      }
    },
    {
      "cell_type": "markdown",
      "source": [
        "#7) Diferencie com suas palavras banco de dados relacionais de não relacionais.\n",
        "Minimo 3 linhas.\n",
        "\n",
        "Relacionais possuem uma estrutura fixa e organizada, ótimo para dados bem definidos. Não relacionais são flexível e escalável, ótimo para grandes volumes e dados variados como imagens e gráficos."
      ],
      "metadata": {
        "id": "F1xh_-UPaZU2"
      }
    },
    {
      "cell_type": "markdown",
      "source": [
        "#8) Queremos saber da sua opinião, acredita que o SQL pode ser mais prático que o Python para consultas rápidas? Justifique.\n",
        "Muitas vezes durante a carreia você terá que escolher qual linguagem utilizar para cada momento afim de entregar o que é solicitado o mais rápido e com qualidade possível, exercite sua argumentação = )\n",
        "\n",
        "Minimo 3 linhas.\n",
        "\n",
        "Sql é mais facilitado e rápido para filtros de complexidade simples, python entrega muito mais complexidade de código e possibilidades de manuseio de dados para a lapidação de insights.\n"
      ],
      "metadata": {
        "id": "GkKpxl52atNQ"
      }
    }
  ]
}