{
  "nbformat": 4,
  "nbformat_minor": 0,
  "metadata": {
    "colab": {
      "provenance": []
    },
    "kernelspec": {
      "name": "python3",
      "display_name": "Python 3"
    },
    "language_info": {
      "name": "python"
    }
  },
  "cells": [
    {
      "cell_type": "markdown",
      "source": [
        "**Objetivo do Projeto:**\n",
        "\n",
        "Tratamento de Dados: Realizar a junção (JOIN) de duas tabelas utilizando SQL para consolidar as informações.\n",
        "Análise de Dados: Exportar os dados resultantes para um arquivo CSV"
      ],
      "metadata": {
        "id": "6_UQwlRYXJnG"
      }
    },
    {
      "cell_type": "markdown",
      "source": [
        "**Tabelas Disponibilizadas:**\n",
        "\n",
        "**Tabela de Transações:** Contém os registros de transações realizadas pelos clientes, incluindo detalhes como ID da transação, valor e outros.\n",
        "\n",
        "\n",
        "**Tabela de Dados Pessoais:** Contém as informações pessoais dos clientes, como ID do cliente, nome, genero, cidade, etc.\n",
        "\n",
        "**Chave de Ligação:** As tabelas se relacionam através da coluna ID_CLIENT, que é a chave identificadora dos clientes."
      ],
      "metadata": {
        "id": "70syl2pLXQ28"
      }
    },
    {
      "cell_type": "markdown",
      "source": [
        "# Etapas do Projeto:\n",
        "\n",
        "1. Realizar um JOIN SQL nas duas tabelas, unificando as informações através da coluna ID_CLIENT. Você deve justificar a escolha do JOIN (Inner/ Left/ Right ou Full).\n",
        "\n",
        "2. Exportar os dados consolidados resultantes do JOIN para um arquivo CSV.\n",
        "\n",
        "3. Utilizar Looker Studio ou Power BI para importar o arquivo CSV.\n",
        "\n",
        "4. Criar visualizações interativas que apresentem métricas importantes, como total de vendas, número de transações, distribuição geográfica dos clientes, perfil demográfico dos clientes, entre outros."
      ],
      "metadata": {
        "id": "xkLSMEBoXeYT"
      }
    },
    {
      "cell_type": "markdown",
      "source": [
        "Abaixo temos a configuração do ambiente SQL:"
      ],
      "metadata": {
        "id": "lRVU4Dl_X0V4"
      }
    },
    {
      "cell_type": "code",
      "execution_count": 4,
      "metadata": {
        "id": "5_Mqh988V-Tf"
      },
      "outputs": [],
      "source": [
        "import sqlite3\n",
        "import pandas as pd"
      ]
    },
    {
      "cell_type": "code",
      "source": [
        "df_transacoes = pd.read_csv(\"/content/TB_TRANSACOES_PROJETO_ECOMM .csv\", delimiter=';')\n",
        "df_clientes = pd.read_csv(\"/content/TB_CLIENTES_PROJETO_ECOMM .csv\", delimiter=';')"
      ],
      "metadata": {
        "id": "JNEitpAKYJfJ"
      },
      "execution_count": 5,
      "outputs": []
    },
    {
      "cell_type": "code",
      "source": [
        "conn = sqlite3.connect('projeto.db')\n",
        "\n",
        "# Carregar o DataFrame no banco de dados SQLite\n",
        "# criando tb_transacoes e tb_clientes\n",
        "df_transacoes.to_sql('tb_transacoes', conn, index=False, if_exists='replace')\n",
        "df_clientes.to_sql('tb_clientes', conn, index=False, if_exists='replace')"
      ],
      "metadata": {
        "colab": {
          "base_uri": "https://localhost:8080/"
        },
        "id": "WnmPtyP6YReh",
        "outputId": "9a52d82b-1a94-4069-e4f8-5bf545c5626b"
      },
      "execution_count": 6,
      "outputs": [
        {
          "output_type": "execute_result",
          "data": {
            "text/plain": [
              "175"
            ]
          },
          "metadata": {},
          "execution_count": 6
        }
      ]
    },
    {
      "cell_type": "code",
      "source": [
        "# Função para executar consultas SQL e retornar o resultado como um DataFrame\n",
        "def run_query(query):\n",
        "    return pd.read_sql_query(query, conn)"
      ],
      "metadata": {
        "id": "pMOeIO95Yfm4"
      },
      "execution_count": 7,
      "outputs": []
    },
    {
      "cell_type": "code",
      "source": [
        "query = \"\"\"\n",
        "select * from tb_transacoes\n",
        "\n",
        "\"\"\"\n",
        "result_df = run_query(query)\n",
        "print(result_df)\n",
        "\n",
        "query = \"\"\"\n",
        "select * from tb_clientes\n",
        "\n",
        "\"\"\"\n",
        "result_df = run_query(query)\n",
        "print(result_df)\n"
      ],
      "metadata": {
        "id": "lMSQyM6qaIEu",
        "colab": {
          "base_uri": "https://localhost:8080/"
        },
        "outputId": "65ad4ca8-2e47-434b-ab61-f3b17c0bb155"
      },
      "execution_count": 8,
      "outputs": [
        {
          "output_type": "stream",
          "name": "stdout",
          "text": [
            "     id_client     Category   Price   Card Type\n",
            "0           37  Electronics   72,93  mastercard\n",
            "1           38      Jewelry  121,89  mastercard\n",
            "2           39         Baby    64,3  mastercard\n",
            "3           40     Outdoors    9,48  mastercard\n",
            "4            5     Outdoors   61,95  mastercard\n",
            "..         ...          ...     ...         ...\n",
            "362        363      Jewelry   44,32  mastercard\n",
            "363        364         Kids  120,42  mastercard\n",
            "364        365      Grocery   24,31  mastercard\n",
            "365        366        Tools  111,53  mastercard\n",
            "366        367    Computers   84,57  mastercard\n",
            "\n",
            "[367 rows x 4 columns]\n",
            "    state_name First_name   Gender                     Job_Title  Id_client\n",
            "0           TX    Domingo     Male  Structural Analysis Engineer          1\n",
            "1           MI    Russell     Male            Speech Pathologist          2\n",
            "2           AL     Kimble     Male           Account Coordinator          3\n",
            "3           IL   Barnabas     Male               General Manager          4\n",
            "4           MN     Tanney   Female                  VP Marketing          5\n",
            "..         ...        ...      ...                           ...        ...\n",
            "170         UT  Fairleigh     Male    Desktop Support Technician        171\n",
            "171         DC    Lambert  Agender             Chemical Engineer        172\n",
            "172         NY      Jacob     Male      Senior Financial Analyst        173\n",
            "173         OK        Pip     Male         Chief Design Engineer        174\n",
            "174         OR     Murvyn   Female          Safety Technician IV        175\n",
            "\n",
            "[175 rows x 5 columns]\n"
          ]
        }
      ]
    },
    {
      "cell_type": "code",
      "source": [
        "\n",
        "query = \"\"\"\n",
        "select * from tb_transacoes as t\n",
        "left join tb_clientes as c\n",
        "on t.ID_CLIENT = c.ID_CLIENT\n",
        "\"\"\"\n",
        "result_df = run_query(query)\n",
        "print(result_df)"
      ],
      "metadata": {
        "colab": {
          "base_uri": "https://localhost:8080/"
        },
        "id": "VmZsFDU8HEju",
        "outputId": "3763f21e-033c-484e-d307-93680ce0fa97"
      },
      "execution_count": 9,
      "outputs": [
        {
          "output_type": "stream",
          "name": "stdout",
          "text": [
            "     id_client     Category   Price   Card Type state_name First_name  \\\n",
            "0           37  Electronics   72,93  mastercard         ND     Cornie   \n",
            "1           38      Jewelry  121,89  mastercard         PA        Rab   \n",
            "2           39         Baby    64,3  mastercard         MA      Codie   \n",
            "3           40     Outdoors    9,48  mastercard         OR      Scott   \n",
            "4            5     Outdoors   61,95  mastercard         MN     Tanney   \n",
            "..         ...          ...     ...         ...        ...        ...   \n",
            "362        363      Jewelry   44,32  mastercard       None       None   \n",
            "363        364         Kids  120,42  mastercard       None       None   \n",
            "364        365      Grocery   24,31  mastercard       None       None   \n",
            "365        366        Tools  111,53  mastercard       None       None   \n",
            "366        367    Computers   84,57  mastercard       None       None   \n",
            "\n",
            "          Gender          Job_Title  Id_client  \n",
            "0    Genderqueer             Editor       37.0  \n",
            "1           Male  Assistant Manager       38.0  \n",
            "2         Female  Financial Analyst       39.0  \n",
            "3         Female     Civil Engineer       40.0  \n",
            "4         Female       VP Marketing        5.0  \n",
            "..           ...                ...        ...  \n",
            "362         None               None        NaN  \n",
            "363         None               None        NaN  \n",
            "364         None               None        NaN  \n",
            "365         None               None        NaN  \n",
            "366         None               None        NaN  \n",
            "\n",
            "[367 rows x 9 columns]\n"
          ]
        }
      ]
    },
    {
      "cell_type": "markdown",
      "source": [
        "Justifique a escolha do JOIN: left join anula linhas com dados nulos vindos da segunda tabela."
      ],
      "metadata": {
        "id": "PfsVPMwQZlNe"
      }
    },
    {
      "cell_type": "code",
      "source": [
        "print(result_df.isnull().sum()) # Verificando a presença de dados nulos"
      ],
      "metadata": {
        "colab": {
          "base_uri": "https://localhost:8080/"
        },
        "id": "X_VEMUdqI0PO",
        "outputId": "69e9e3cb-6cc9-449f-92a0-6c9ba3db0280"
      },
      "execution_count": 10,
      "outputs": [
        {
          "output_type": "stream",
          "name": "stdout",
          "text": [
            "id_client      0\n",
            "Category       0\n",
            "Price          0\n",
            "Card Type      0\n",
            "state_name    71\n",
            "First_name    71\n",
            "Gender        71\n",
            "Job_Title     71\n",
            "Id_client     71\n",
            "dtype: int64\n"
          ]
        }
      ]
    },
    {
      "cell_type": "code",
      "source": [
        "#Deletando dados nulos do dataframe\n",
        "\n",
        "#Removendo linhas com  valores nulos\n",
        "result_df_cleaned = result_df.dropna()\n",
        "\n",
        "# Verificando se os valores nulos foram removidos\n",
        "print(result_df_cleaned.isnull().sum())\n",
        "\n",
        "# Salvando dados\n",
        "result_df = result_df_cleaned\n",
        "print(result_df)"
      ],
      "metadata": {
        "colab": {
          "base_uri": "https://localhost:8080/"
        },
        "id": "4gKQRz7ZI9vl",
        "outputId": "8d3a6b95-e5e4-4434-be9f-1ad80120782e"
      },
      "execution_count": 11,
      "outputs": [
        {
          "output_type": "stream",
          "name": "stdout",
          "text": [
            "id_client     0\n",
            "Category      0\n",
            "Price         0\n",
            "Card Type     0\n",
            "state_name    0\n",
            "First_name    0\n",
            "Gender        0\n",
            "Job_Title     0\n",
            "Id_client     0\n",
            "dtype: int64\n",
            "     id_client     Category   Price   Card Type state_name First_name  \\\n",
            "0           37  Electronics   72,93  mastercard         ND     Cornie   \n",
            "1           38      Jewelry  121,89  mastercard         PA        Rab   \n",
            "2           39         Baby    64,3  mastercard         MA      Codie   \n",
            "3           40     Outdoors    9,48  mastercard         OR      Scott   \n",
            "4            5     Outdoors   61,95  mastercard         MN     Tanney   \n",
            "..         ...          ...     ...         ...        ...        ...   \n",
            "354        120         Baby   24,97  mastercard         NY      Dougy   \n",
            "355        121     Clothing  145,64  mastercard         OH     Bartel   \n",
            "356        122     Clothing   46,16  mastercard         KS      Inigo   \n",
            "357        123        Books   39,03  mastercard         VA       Ross   \n",
            "358        124       Health  142,63  mastercard         DC       Saul   \n",
            "\n",
            "          Gender                      Job_Title  Id_client  \n",
            "0    Genderqueer                         Editor       37.0  \n",
            "1           Male              Assistant Manager       38.0  \n",
            "2         Female              Financial Analyst       39.0  \n",
            "3         Female                 Civil Engineer       40.0  \n",
            "4         Female                   VP Marketing        5.0  \n",
            "..           ...                            ...        ...  \n",
            "354         Male    Computer Systems Analyst IV      120.0  \n",
            "355       Female                        Actuary      121.0  \n",
            "356       Female          Programmer Analyst II      122.0  \n",
            "357         Male  Analog Circuit Design manager      123.0  \n",
            "358       Female                   VP Marketing      124.0  \n",
            "\n",
            "[296 rows x 9 columns]\n"
          ]
        }
      ]
    },
    {
      "cell_type": "markdown",
      "source": [
        "Exportando o arquivo como CSV:"
      ],
      "metadata": {
        "id": "ca7R_MgCZ2eh"
      }
    },
    {
      "cell_type": "code",
      "source": [
        "# confirmando saida do projeto\n",
        "print(result_df)\n",
        "result_df.to_csv('dados_ecommerce_final.csv', index=False)"
      ],
      "metadata": {
        "colab": {
          "base_uri": "https://localhost:8080/"
        },
        "id": "euIFdprwPwZ2",
        "outputId": "6d2748ff-f0f4-437e-b4a5-790753bde8ee"
      },
      "execution_count": 12,
      "outputs": [
        {
          "output_type": "stream",
          "name": "stdout",
          "text": [
            "     id_client     Category   Price   Card Type state_name First_name  \\\n",
            "0           37  Electronics   72,93  mastercard         ND     Cornie   \n",
            "1           38      Jewelry  121,89  mastercard         PA        Rab   \n",
            "2           39         Baby    64,3  mastercard         MA      Codie   \n",
            "3           40     Outdoors    9,48  mastercard         OR      Scott   \n",
            "4            5     Outdoors   61,95  mastercard         MN     Tanney   \n",
            "..         ...          ...     ...         ...        ...        ...   \n",
            "354        120         Baby   24,97  mastercard         NY      Dougy   \n",
            "355        121     Clothing  145,64  mastercard         OH     Bartel   \n",
            "356        122     Clothing   46,16  mastercard         KS      Inigo   \n",
            "357        123        Books   39,03  mastercard         VA       Ross   \n",
            "358        124       Health  142,63  mastercard         DC       Saul   \n",
            "\n",
            "          Gender                      Job_Title  Id_client  \n",
            "0    Genderqueer                         Editor       37.0  \n",
            "1           Male              Assistant Manager       38.0  \n",
            "2         Female              Financial Analyst       39.0  \n",
            "3         Female                 Civil Engineer       40.0  \n",
            "4         Female                   VP Marketing        5.0  \n",
            "..           ...                            ...        ...  \n",
            "354         Male    Computer Systems Analyst IV      120.0  \n",
            "355       Female                        Actuary      121.0  \n",
            "356       Female          Programmer Analyst II      122.0  \n",
            "357         Male  Analog Circuit Design manager      123.0  \n",
            "358       Female                   VP Marketing      124.0  \n",
            "\n",
            "[296 rows x 9 columns]\n"
          ]
        }
      ]
    }
  ]
}