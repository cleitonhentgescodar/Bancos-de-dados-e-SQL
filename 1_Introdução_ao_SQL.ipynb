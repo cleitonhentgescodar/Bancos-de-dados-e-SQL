{
  "nbformat": 4,
  "nbformat_minor": 0,
  "metadata": {
    "colab": {
      "provenance": []
    },
    "kernelspec": {
      "name": "python3",
      "display_name": "Python 3"
    },
    "language_info": {
      "name": "python"
    }
  },
  "cells": [
    {
      "cell_type": "markdown",
      "source": [
        "\n",
        "# Introdução ao SQL"
      ],
      "metadata": {
        "id": "ePvQRJNRo3eD"
      }
    },
    {
      "cell_type": "markdown",
      "source": [
        "Aprendemos neste módulo que temos diversos softwares e interfaces que podemos utilizar durante o dia para executarmos códigos em SQL, assim como o Python.\n",
        "Utilizaremos o próprio ambiente do Jupyter Notebook para construirmos nossas Querys (Consultas) de dados com SQL."
      ],
      "metadata": {
        "id": "kipZX7vtpA-2"
      }
    },
    {
      "cell_type": "code",
      "source": [
        "import sqlite3 #Importando a biblioteca necessária\n",
        "import pandas as pd"
      ],
      "metadata": {
        "id": "NcLz_scgr7Lf"
      },
      "execution_count": null,
      "outputs": []
    },
    {
      "cell_type": "code",
      "source": [
        "df_funcionarios = pd.read_csv(\"SQL_TB_FUNCIONARIOS.csv\", delimiter=';')"
      ],
      "metadata": {
        "id": "0L1hp1edsgav"
      },
      "execution_count": null,
      "outputs": []
    },
    {
      "cell_type": "code",
      "source": [
        "# Criar uma conexão com um banco de dados SQLite em memória\n",
        "conn = sqlite3.connect(':memory:')\n",
        "# Carregar o DataFrame no banco de dados SQLite\n",
        "df_funcionarios.to_sql('tb_funcionarios', conn, index=False, if_exists='replace')"
      ],
      "metadata": {
        "colab": {
          "base_uri": "https://localhost:8080/"
        },
        "id": "hhMDT4lhHuld",
        "outputId": "d1f3c6f2-b983-4faa-9241-6b033d55975f"
      },
      "execution_count": null,
      "outputs": [
        {
          "output_type": "execute_result",
          "data": {
            "text/plain": [
              "10"
            ]
          },
          "metadata": {},
          "execution_count": 3
        }
      ]
    },
    {
      "cell_type": "code",
      "source": [
        "# Função para executar consultas SQL e retornar o resultado como um DataFrame\n",
        "def run_query(query):\n",
        "    return pd.read_sql_query(query, conn)"
      ],
      "metadata": {
        "id": "2iGhzQK8H38R"
      },
      "execution_count": null,
      "outputs": []
    },
    {
      "cell_type": "code",
      "source": [
        "query = \"SELECT * FROM tb_funcionarios\"\n",
        "result_df = run_query(query)\n",
        "# Exibir o resultado\n",
        "print(result_df)"
      ],
      "metadata": {
        "colab": {
          "base_uri": "https://localhost:8080/"
        },
        "id": "dSY0LKE9H_dC",
        "outputId": "5362bd43-5a74-45cc-9b69-e0f058b88404"
      },
      "execution_count": null,
      "outputs": [
        {
          "output_type": "stream",
          "name": "stdout",
          "text": [
            "    ID       ÁREA   CARGO  SALÁRIO  TEMPO_NA_EMPRESA\n",
            "0  136         TI  JUNIOR     2500                 0\n",
            "1  125         TI  SENIOR     6000                 1\n",
            "2  148         TI  SENIOR     6000                 2\n",
            "3  456        ADM   PLENO     4500                 2\n",
            "4  345        ADM   PLENO     4600                 4\n",
            "5  254        ADM  SENIOR     5600                 5\n",
            "6  178        ADM  JUNIOR     2200                 0\n",
            "7  365  MARKETING  JUNIOR     2300                 1\n",
            "8  145  MARKETING  SENIOR     5500                 3\n",
            "9  258  MARKETING   PLENO     4600                 2\n"
          ]
        }
      ]
    },
    {
      "cell_type": "code",
      "source": [
        "query = \"SELECT ID FROM tb_funcionarios\"\n",
        "result_df = run_query(query)\n",
        "print(result_df)"
      ],
      "metadata": {
        "colab": {
          "base_uri": "https://localhost:8080/"
        },
        "id": "qIfEMLvaO0hE",
        "outputId": "8392d848-df8c-4605-d332-7aa780c4df0f"
      },
      "execution_count": null,
      "outputs": [
        {
          "output_type": "stream",
          "name": "stdout",
          "text": [
            "    ID\n",
            "0  136\n",
            "1  125\n",
            "2  148\n",
            "3  456\n",
            "4  345\n",
            "5  254\n",
            "6  178\n",
            "7  365\n",
            "8  145\n",
            "9  258\n"
          ]
        }
      ]
    },
    {
      "cell_type": "markdown",
      "source": [
        "No SQL, a cláusula LIMIT é usada para restringir o número de linhas retornadas por uma consulta. É particularmente útil quando você deseja visualizar apenas uma parte dos dados, como um número específico de registros."
      ],
      "metadata": {
        "id": "OT6tUWmuPtom"
      }
    },
    {
      "cell_type": "code",
      "source": [
        "query = \"SELECT ID FROM tb_funcionarios limit 5\"\n",
        "result_df = run_query(query)\n",
        "print(result_df)"
      ],
      "metadata": {
        "colab": {
          "base_uri": "https://localhost:8080/"
        },
        "id": "WWMdT5vFPx_b",
        "outputId": "03be038c-bff7-4be5-be57-99e1d25cae45"
      },
      "execution_count": null,
      "outputs": [
        {
          "output_type": "stream",
          "name": "stdout",
          "text": [
            "    ID\n",
            "0  136\n",
            "1  125\n",
            "2  148\n",
            "3  456\n",
            "4  345\n"
          ]
        }
      ]
    },
    {
      "cell_type": "code",
      "source": [
        "query = \"SELECT ID,  CARGO FROM TB_FUNCIONARIOS\"\n",
        "result_df = run_query(query)\n",
        "print(result_df)"
      ],
      "metadata": {
        "colab": {
          "base_uri": "https://localhost:8080/"
        },
        "id": "zENXmeoFPglK",
        "outputId": "5bdb4cff-2ed9-4a5d-9e53-330a3ecc8baa"
      },
      "execution_count": null,
      "outputs": [
        {
          "output_type": "stream",
          "name": "stdout",
          "text": [
            "    ID   CARGO\n",
            "0  136  JUNIOR\n",
            "1  125  SENIOR\n",
            "2  148  SENIOR\n",
            "3  456   PLENO\n",
            "4  345   PLENO\n",
            "5  254  SENIOR\n",
            "6  178  JUNIOR\n",
            "7  365  JUNIOR\n",
            "8  145  SENIOR\n",
            "9  258   PLENO\n"
          ]
        }
      ]
    },
    {
      "cell_type": "markdown",
      "source": [
        "# **MÓDULO 24 - AULA 4**\n",
        "# Operações matemáticas"
      ],
      "metadata": {
        "id": "bfSU6JNIPpe_"
      }
    },
    {
      "cell_type": "code",
      "source": [
        "query = \"SELECT AVG(SALÁRIO) FROM TB_FUNCIONARIOS\"\n",
        "result_df = run_query(query)\n",
        "print(result_df)"
      ],
      "metadata": {
        "colab": {
          "base_uri": "https://localhost:8080/"
        },
        "id": "EoKliz6kPpJ7",
        "outputId": "7391e2d7-5266-4861-9cef-bbfefe1ee926"
      },
      "execution_count": null,
      "outputs": [
        {
          "output_type": "stream",
          "name": "stdout",
          "text": [
            "   AVG(SALÁRIO)\n",
            "0        4380.0\n"
          ]
        }
      ]
    },
    {
      "cell_type": "code",
      "source": [
        "query = \"SELECT SUM(SALÁRIO) FROM TB_FUNCIONARIOS\"\n",
        "result_df = run_query(query)\n",
        "print(result_df)"
      ],
      "metadata": {
        "colab": {
          "base_uri": "https://localhost:8080/"
        },
        "id": "ZbtaSlhaQVIS",
        "outputId": "7b50cdfa-f077-48cc-c8dd-221cbc8eead7"
      },
      "execution_count": null,
      "outputs": [
        {
          "output_type": "stream",
          "name": "stdout",
          "text": [
            "   SUM(SALÁRIO)\n",
            "0         43800\n"
          ]
        }
      ]
    },
    {
      "cell_type": "markdown",
      "source": [
        "Para alterar o nome de uma coluna em uma consulta SQL, você pode usar a cláusula AS. Isso permite que você renomeie colunas no resultado da consulta sem alterar os nomes das colunas na tabela original."
      ],
      "metadata": {
        "id": "dKYg75mMQkCX"
      }
    },
    {
      "cell_type": "code",
      "source": [
        "query = \"SELECT SUM(SALÁRIO) AS SOMA_SALÁRIO FROM TB_FUNCIONARIOS\"\n",
        "result_df = run_query(query)\n",
        "print(result_df)"
      ],
      "metadata": {
        "colab": {
          "base_uri": "https://localhost:8080/"
        },
        "id": "0cUpMPAjQm_w",
        "outputId": "9375d36f-edf3-460a-df44-1d1a4c356804"
      },
      "execution_count": null,
      "outputs": [
        {
          "output_type": "stream",
          "name": "stdout",
          "text": [
            "   SOMA_SALÁRIO\n",
            "0         43800\n"
          ]
        }
      ]
    }
  ]
}