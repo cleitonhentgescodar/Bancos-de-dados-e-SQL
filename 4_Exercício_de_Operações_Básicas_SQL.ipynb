{
  "nbformat": 4,
  "nbformat_minor": 0,
  "metadata": {
    "colab": {
      "provenance": []
    },
    "kernelspec": {
      "name": "python3",
      "display_name": "Python 3"
    },
    "language_info": {
      "name": "python"
    }
  },
  "cells": [
    {
      "cell_type": "markdown",
      "source": [
        "#\n",
        "# Filtragem de Dados e Distinct"
      ],
      "metadata": {
        "id": "k9QcIG8BiOoy"
      }
    },
    {
      "cell_type": "code",
      "execution_count": 1,
      "metadata": {
        "id": "R_YZq3psiDYK"
      },
      "outputs": [],
      "source": [
        "import sqlite3\n",
        "import pandas as pd"
      ]
    },
    {
      "cell_type": "code",
      "source": [
        "df_funcionarios = pd.read_csv(\"SQL_TB_FUNCIONARIOS.csv\", delimiter=';')"
      ],
      "metadata": {
        "id": "7V-KsJ-BiWHj"
      },
      "execution_count": 2,
      "outputs": []
    },
    {
      "cell_type": "code",
      "source": [
        "# Criar uma conexão com um banco de dados SQLite em memória\n",
        "conn = sqlite3.connect(':memory:')\n",
        "# Carregar o DataFrame no banco de dados SQLite\n",
        "df_funcionarios.to_sql('tb_funcionarios', conn, index=False, if_exists='replace')"
      ],
      "metadata": {
        "colab": {
          "base_uri": "https://localhost:8080/"
        },
        "id": "fHgzEKHziXXt",
        "outputId": "f2a44d57-1788-45b8-ccfd-10af6a44ecfc"
      },
      "execution_count": 3,
      "outputs": [
        {
          "output_type": "execute_result",
          "data": {
            "text/plain": [
              "10"
            ]
          },
          "metadata": {},
          "execution_count": 3
        }
      ]
    },
    {
      "cell_type": "code",
      "source": [
        "# Função para executar consultas SQL e retornar o resultado como um DataFrame\n",
        "def run_query(query):\n",
        "    return pd.read_sql_query(query, conn)"
      ],
      "metadata": {
        "id": "AUeLFfX7iYsk"
      },
      "execution_count": 4,
      "outputs": []
    },
    {
      "cell_type": "code",
      "source": [
        "#Visualizando toda tabela\n",
        "query = \"SELECT * FROM tb_funcionarios\"\n",
        "result_df = run_query(query)\n",
        "print(result_df)"
      ],
      "metadata": {
        "colab": {
          "base_uri": "https://localhost:8080/"
        },
        "id": "0wHQtLbVjxjJ",
        "outputId": "afd4c5df-b7c0-4342-8fa7-e38b2f80035d"
      },
      "execution_count": 5,
      "outputs": [
        {
          "output_type": "stream",
          "name": "stdout",
          "text": [
            "    ID       ÁREA   CARGO  SALÁRIO  TEMPO_NA_EMPRESA\n",
            "0  136         TI  JUNIOR     2500                 0\n",
            "1  125         TI  SENIOR     6000                 1\n",
            "2  148         TI  SENIOR     6000                 2\n",
            "3  456        ADM   PLENO     4500                 2\n",
            "4  345        ADM   PLENO     4600                 4\n",
            "5  254        ADM  SENIOR     5600                 5\n",
            "6  178        ADM  JUNIOR     2200                 0\n",
            "7  365  MARKETING  JUNIOR     2300                 1\n",
            "8  145  MARKETING  SENIOR     5500                 3\n",
            "9  258  MARKETING   PLENO     4600                 2\n"
          ]
        }
      ]
    },
    {
      "cell_type": "code",
      "source": [
        "#Sem distinct\n",
        "query = \"SELECT CARGO FROM tb_funcionarios\"\n",
        "result_df = run_query(query)\n",
        "print(result_df)"
      ],
      "metadata": {
        "colab": {
          "base_uri": "https://localhost:8080/"
        },
        "id": "1LmT6FbDiZ9R",
        "outputId": "f0894386-0ff1-4cff-a36b-ac692aa79315"
      },
      "execution_count": 6,
      "outputs": [
        {
          "output_type": "stream",
          "name": "stdout",
          "text": [
            "    CARGO\n",
            "0  JUNIOR\n",
            "1  SENIOR\n",
            "2  SENIOR\n",
            "3   PLENO\n",
            "4   PLENO\n",
            "5  SENIOR\n",
            "6  JUNIOR\n",
            "7  JUNIOR\n",
            "8  SENIOR\n",
            "9   PLENO\n"
          ]
        }
      ]
    },
    {
      "cell_type": "code",
      "source": [
        "#Com distinct\n",
        "query = \"SELECT DISTINCT(CARGO) FROM tb_funcionarios\"\n",
        "result_df = run_query(query)\n",
        "print(result_df)"
      ],
      "metadata": {
        "colab": {
          "base_uri": "https://localhost:8080/"
        },
        "id": "8_RH6uayimnG",
        "outputId": "07ca02eb-33cc-40f3-d721-eea2869311e4"
      },
      "execution_count": 7,
      "outputs": [
        {
          "output_type": "stream",
          "name": "stdout",
          "text": [
            "    CARGO\n",
            "0  JUNIOR\n",
            "1  SENIOR\n",
            "2   PLENO\n"
          ]
        }
      ]
    },
    {
      "cell_type": "code",
      "source": [
        "#Com IN\n",
        "query = \"\"\"\n",
        "SELECT\n",
        "CARGO\n",
        "FROM tb_funcionarios\n",
        "WHERE ÁREA IN ('TI')\n",
        "\"\"\"\n",
        "result_df = run_query(query)\n",
        "print(result_df)"
      ],
      "metadata": {
        "colab": {
          "base_uri": "https://localhost:8080/"
        },
        "id": "KTE6YIjSjBvb",
        "outputId": "233e8e40-8bb9-495e-b337-595c17a3cf35"
      },
      "execution_count": 8,
      "outputs": [
        {
          "output_type": "stream",
          "name": "stdout",
          "text": [
            "    CARGO\n",
            "0  JUNIOR\n",
            "1  SENIOR\n",
            "2  SENIOR\n"
          ]
        }
      ]
    },
    {
      "cell_type": "code",
      "source": [
        "#Com IN + LISTA\n",
        "query = \"\"\"\n",
        "SELECT\n",
        "CARGO\n",
        "FROM tb_funcionarios\n",
        "WHERE ÁREA IN ('TI','ADM')\n",
        "\"\"\"\n",
        "result_df = run_query(query)\n",
        "print(result_df)"
      ],
      "metadata": {
        "colab": {
          "base_uri": "https://localhost:8080/"
        },
        "id": "Gu-BKaU2mRbm",
        "outputId": "88761e57-faa1-47d8-9ed6-522789c458fa"
      },
      "execution_count": 9,
      "outputs": [
        {
          "output_type": "stream",
          "name": "stdout",
          "text": [
            "    CARGO\n",
            "0  JUNIOR\n",
            "1  SENIOR\n",
            "2  SENIOR\n",
            "3   PLENO\n",
            "4   PLENO\n",
            "5  SENIOR\n",
            "6  JUNIOR\n"
          ]
        }
      ]
    },
    {
      "cell_type": "code",
      "source": [
        "#Com IN + LISTA + TODAS COLUNAS\n",
        "query = \"\"\"\n",
        "SELECT\n",
        "*\n",
        "FROM tb_funcionarios\n",
        "WHERE ÁREA IN ('TI','ADM')\n",
        "\"\"\"\n",
        "result_df = run_query(query)\n",
        "print(result_df)"
      ],
      "metadata": {
        "colab": {
          "base_uri": "https://localhost:8080/"
        },
        "id": "TlK2fxh4mbXM",
        "outputId": "df5c8d4e-0198-421b-e726-3c9adad17027"
      },
      "execution_count": 10,
      "outputs": [
        {
          "output_type": "stream",
          "name": "stdout",
          "text": [
            "    ID ÁREA   CARGO  SALÁRIO  TEMPO_NA_EMPRESA\n",
            "0  136   TI  JUNIOR     2500                 0\n",
            "1  125   TI  SENIOR     6000                 1\n",
            "2  148   TI  SENIOR     6000                 2\n",
            "3  456  ADM   PLENO     4500                 2\n",
            "4  345  ADM   PLENO     4600                 4\n",
            "5  254  ADM  SENIOR     5600                 5\n",
            "6  178  ADM  JUNIOR     2200                 0\n"
          ]
        }
      ]
    },
    {
      "cell_type": "code",
      "source": [
        "#Com =\n",
        "query = \"\"\"\n",
        "SELECT\n",
        "*\n",
        "FROM tb_funcionarios\n",
        "WHERE ÁREA = 'TI'\n",
        "\"\"\"\n",
        "result_df = run_query(query)\n",
        "print(result_df)"
      ],
      "metadata": {
        "colab": {
          "base_uri": "https://localhost:8080/"
        },
        "id": "szR0TKmDmhud",
        "outputId": "aa61e976-b1b5-483e-aead-caa9891129ba"
      },
      "execution_count": 11,
      "outputs": [
        {
          "output_type": "stream",
          "name": "stdout",
          "text": [
            "    ID ÁREA   CARGO  SALÁRIO  TEMPO_NA_EMPRESA\n",
            "0  136   TI  JUNIOR     2500                 0\n",
            "1  125   TI  SENIOR     6000                 1\n",
            "2  148   TI  SENIOR     6000                 2\n"
          ]
        }
      ]
    },
    {
      "cell_type": "code",
      "source": [
        "#Com LIKE\n",
        "query = \"\"\"\n",
        "SELECT\n",
        "*\n",
        "FROM tb_funcionarios\n",
        "WHERE ÁREA like 'TI'\n",
        "\"\"\"\n",
        "result_df = run_query(query)\n",
        "print(result_df)"
      ],
      "metadata": {
        "colab": {
          "base_uri": "https://localhost:8080/"
        },
        "id": "HsOIP_NVmmLh",
        "outputId": "0bd3dc11-7e1c-4eff-c53f-d185ec99a55e"
      },
      "execution_count": 12,
      "outputs": [
        {
          "output_type": "stream",
          "name": "stdout",
          "text": [
            "    ID ÁREA   CARGO  SALÁRIO  TEMPO_NA_EMPRESA\n",
            "0  136   TI  JUNIOR     2500                 0\n",
            "1  125   TI  SENIOR     6000                 1\n",
            "2  148   TI  SENIOR     6000                 2\n"
          ]
        }
      ]
    },
    {
      "cell_type": "markdown",
      "source": [
        "O caractere % é um coringa (wildcard) usado com LIKE que representa zero ou mais caracteres. Quando você utiliza % dentro de uma expressão LIKE, ele pode combinar com qualquer sequência de caracteres."
      ],
      "metadata": {
        "id": "2tIAiCvRnN5m"
      }
    },
    {
      "cell_type": "code",
      "source": [
        "#Com LIKE+ coringa + inicio e final\n",
        "query = \"\"\"\n",
        "SELECT\n",
        "*\n",
        "FROM tb_funcionarios\n",
        "WHERE ÁREA like '%T%'\n",
        "\"\"\"\n",
        "result_df = run_query(query)\n",
        "print(result_df)"
      ],
      "metadata": {
        "colab": {
          "base_uri": "https://localhost:8080/"
        },
        "id": "D-ybDIK3m35N",
        "outputId": "1fde9b83-7bd9-4e51-f7f1-69cc0fe14eb1"
      },
      "execution_count": 13,
      "outputs": [
        {
          "output_type": "stream",
          "name": "stdout",
          "text": [
            "    ID       ÁREA   CARGO  SALÁRIO  TEMPO_NA_EMPRESA\n",
            "0  136         TI  JUNIOR     2500                 0\n",
            "1  125         TI  SENIOR     6000                 1\n",
            "2  148         TI  SENIOR     6000                 2\n",
            "3  365  MARKETING  JUNIOR     2300                 1\n",
            "4  145  MARKETING  SENIOR     5500                 3\n",
            "5  258  MARKETING   PLENO     4600                 2\n"
          ]
        }
      ]
    },
    {
      "cell_type": "code",
      "source": [
        "#Com LIKE + coringa + final\n",
        "query = \"\"\"\n",
        "SELECT\n",
        "*\n",
        "FROM tb_funcionarios\n",
        "WHERE ÁREA like 'T%'\n",
        "\"\"\"\n",
        "result_df = run_query(query)\n",
        "print(result_df)"
      ],
      "metadata": {
        "colab": {
          "base_uri": "https://localhost:8080/"
        },
        "id": "QU0zeofYnSrT",
        "outputId": "c462b864-f763-404b-e088-959a79f4dc13"
      },
      "execution_count": 14,
      "outputs": [
        {
          "output_type": "stream",
          "name": "stdout",
          "text": [
            "    ID ÁREA   CARGO  SALÁRIO  TEMPO_NA_EMPRESA\n",
            "0  136   TI  JUNIOR     2500                 0\n",
            "1  125   TI  SENIOR     6000                 1\n",
            "2  148   TI  SENIOR     6000                 2\n"
          ]
        }
      ]
    },
    {
      "cell_type": "code",
      "source": [
        "#Com LIKE + coringa + final\n",
        "query = \"\"\"\n",
        "SELECT\n",
        "CARGO\n",
        "FROM tb_funcionarios\n",
        "WHERE ÁREA IN ('adm','ti')\n",
        "\"\"\"\n",
        "result_df = run_query(query)\n",
        "print(result_df)"
      ],
      "metadata": {
        "colab": {
          "base_uri": "https://localhost:8080/"
        },
        "id": "aT6kIcHfnrGD",
        "outputId": "df6bcb64-6a2c-403e-f2e3-ca6b44ea9002"
      },
      "execution_count": 15,
      "outputs": [
        {
          "output_type": "stream",
          "name": "stdout",
          "text": [
            "Empty DataFrame\n",
            "Columns: [CARGO]\n",
            "Index: []\n"
          ]
        }
      ]
    },
    {
      "cell_type": "markdown",
      "source": [
        "\n",
        "# Operadores de Comparação e Lógicos"
      ],
      "metadata": {
        "id": "rdZKAziqi9FA"
      }
    },
    {
      "cell_type": "code",
      "source": [
        "query = \"\"\"\n",
        "SELECT\n",
        "CARGO\n",
        "FROM tb_funcionarios\n",
        "WHERE LOWER(ÁREA) IN ('adm','ti')\n",
        "\"\"\"\n",
        "result_df = run_query(query)\n",
        "print(result_df)"
      ],
      "metadata": {
        "colab": {
          "base_uri": "https://localhost:8080/"
        },
        "id": "Lhkyfj2Lu0t7",
        "outputId": "00b51c23-dac6-4ef9-aaf7-d0e098c09ef7"
      },
      "execution_count": 16,
      "outputs": [
        {
          "output_type": "stream",
          "name": "stdout",
          "text": [
            "    CARGO\n",
            "0  JUNIOR\n",
            "1  SENIOR\n",
            "2  SENIOR\n",
            "3   PLENO\n",
            "4   PLENO\n",
            "5  SENIOR\n",
            "6  JUNIOR\n"
          ]
        }
      ]
    },
    {
      "cell_type": "code",
      "source": [
        "query = \"\"\"\n",
        "SELECT\n",
        "LOWER(CARGO)\n",
        "FROM tb_funcionarios\n",
        "\"\"\"\n",
        "result_df = run_query(query)\n",
        "print(result_df)"
      ],
      "metadata": {
        "colab": {
          "base_uri": "https://localhost:8080/"
        },
        "id": "0rXIV2hku-X2",
        "outputId": "b8f35069-536b-47bd-fe28-7f55fbd3dfa2"
      },
      "execution_count": 17,
      "outputs": [
        {
          "output_type": "stream",
          "name": "stdout",
          "text": [
            "  LOWER(CARGO)\n",
            "0       junior\n",
            "1       senior\n",
            "2       senior\n",
            "3        pleno\n",
            "4        pleno\n",
            "5       senior\n",
            "6       junior\n",
            "7       junior\n",
            "8       senior\n",
            "9        pleno\n"
          ]
        }
      ]
    },
    {
      "cell_type": "code",
      "source": [
        "# >=\n",
        "query = \"\"\"\n",
        "SELECT\n",
        "*\n",
        "FROM tb_funcionarios\n",
        "WHERE SALÁRIO >= 2000\n",
        "\"\"\"\n",
        "result_df = run_query(query)\n",
        "print(result_df)"
      ],
      "metadata": {
        "colab": {
          "base_uri": "https://localhost:8080/"
        },
        "id": "Ofz2GKPrvvZr",
        "outputId": "7636be1c-8d36-4ae8-acf9-000959426987"
      },
      "execution_count": 18,
      "outputs": [
        {
          "output_type": "stream",
          "name": "stdout",
          "text": [
            "    ID       ÁREA   CARGO  SALÁRIO  TEMPO_NA_EMPRESA\n",
            "0  136         TI  JUNIOR     2500                 0\n",
            "1  125         TI  SENIOR     6000                 1\n",
            "2  148         TI  SENIOR     6000                 2\n",
            "3  456        ADM   PLENO     4500                 2\n",
            "4  345        ADM   PLENO     4600                 4\n",
            "5  254        ADM  SENIOR     5600                 5\n",
            "6  178        ADM  JUNIOR     2200                 0\n",
            "7  365  MARKETING  JUNIOR     2300                 1\n",
            "8  145  MARKETING  SENIOR     5500                 3\n",
            "9  258  MARKETING   PLENO     4600                 2\n"
          ]
        }
      ]
    },
    {
      "cell_type": "code",
      "source": [
        "# >= + CONTAGEM\n",
        "query = \"\"\"\n",
        "SELECT\n",
        "COUNT(ID)\n",
        "FROM tb_funcionarios\n",
        "WHERE SALÁRIO >= 2000\n",
        "\"\"\"\n",
        "result_df = run_query(query)\n",
        "print(result_df)"
      ],
      "metadata": {
        "colab": {
          "base_uri": "https://localhost:8080/"
        },
        "id": "5JYA9p3a6H-L",
        "outputId": "7bce19e9-8e2a-4aa6-c776-22cd520fe7c6"
      },
      "execution_count": 19,
      "outputs": [
        {
          "output_type": "stream",
          "name": "stdout",
          "text": [
            "   COUNT(ID)\n",
            "0         10\n"
          ]
        }
      ]
    },
    {
      "cell_type": "code",
      "source": [
        "# <= + CONTAGEM\n",
        "query = \"\"\"\n",
        "SELECT\n",
        "COUNT(ID)\n",
        "FROM tb_funcionarios\n",
        "WHERE SALÁRIO <= 2000\n",
        "\"\"\"\n",
        "result_df = run_query(query)\n",
        "print(result_df)\n"
      ],
      "metadata": {
        "colab": {
          "base_uri": "https://localhost:8080/"
        },
        "id": "BfSWvbA_6MlK",
        "outputId": "c50bbb02-cf5a-4a30-fc65-5dc64dad4181"
      },
      "execution_count": 20,
      "outputs": [
        {
          "output_type": "stream",
          "name": "stdout",
          "text": [
            "   COUNT(ID)\n",
            "0          0\n"
          ]
        }
      ]
    },
    {
      "cell_type": "code",
      "source": [
        "# AND\n",
        "query = \"\"\"\n",
        "SELECT\n",
        "*\n",
        "FROM tb_funcionarios\n",
        "WHERE ÁREA IN ('TI')\n",
        "AND CARGO IN ('JUNIOR')\n",
        "\"\"\"\n",
        "result_df = run_query(query)\n",
        "print(result_df)"
      ],
      "metadata": {
        "colab": {
          "base_uri": "https://localhost:8080/"
        },
        "id": "C--qj0Bt6fxn",
        "outputId": "8cd83b55-e24d-41a5-d8d3-396a839ebd0f"
      },
      "execution_count": 21,
      "outputs": [
        {
          "output_type": "stream",
          "name": "stdout",
          "text": [
            "    ID ÁREA   CARGO  SALÁRIO  TEMPO_NA_EMPRESA\n",
            "0  136   TI  JUNIOR     2500                 0\n"
          ]
        }
      ]
    },
    {
      "cell_type": "code",
      "source": [
        "# OR\n",
        "query = \"\"\"\n",
        "SELECT\n",
        "*\n",
        "FROM tb_funcionarios\n",
        "WHERE ÁREA IN ('TI')\n",
        "OR CARGO IN ('JUNIOR')\n",
        "\"\"\"\n",
        "result_df = run_query(query)\n",
        "print(result_df)"
      ],
      "metadata": {
        "colab": {
          "base_uri": "https://localhost:8080/"
        },
        "id": "YNzFUGjw6t1X",
        "outputId": "c269a9e5-4579-4afa-e691-15a9c683719e"
      },
      "execution_count": 22,
      "outputs": [
        {
          "output_type": "stream",
          "name": "stdout",
          "text": [
            "    ID       ÁREA   CARGO  SALÁRIO  TEMPO_NA_EMPRESA\n",
            "0  136         TI  JUNIOR     2500                 0\n",
            "1  125         TI  SENIOR     6000                 1\n",
            "2  148         TI  SENIOR     6000                 2\n",
            "3  178        ADM  JUNIOR     2200                 0\n",
            "4  365  MARKETING  JUNIOR     2300                 1\n"
          ]
        }
      ]
    },
    {
      "cell_type": "code",
      "source": [
        "# NOT\n",
        "query = \"\"\"\n",
        "SELECT\n",
        "*\n",
        "FROM tb_funcionarios\n",
        "WHERE ÁREA NOT IN ('TI')\n",
        "\"\"\"\n",
        "result_df = run_query(query)\n",
        "print(result_df)"
      ],
      "metadata": {
        "colab": {
          "base_uri": "https://localhost:8080/"
        },
        "id": "inVKottd6yHQ",
        "outputId": "8ee60bf3-4d4e-4d44-8105-2c3b6ae835e1"
      },
      "execution_count": 23,
      "outputs": [
        {
          "output_type": "stream",
          "name": "stdout",
          "text": [
            "    ID       ÁREA   CARGO  SALÁRIO  TEMPO_NA_EMPRESA\n",
            "0  456        ADM   PLENO     4500                 2\n",
            "1  345        ADM   PLENO     4600                 4\n",
            "2  254        ADM  SENIOR     5600                 5\n",
            "3  178        ADM  JUNIOR     2200                 0\n",
            "4  365  MARKETING  JUNIOR     2300                 1\n",
            "5  145  MARKETING  SENIOR     5500                 3\n",
            "6  258  MARKETING   PLENO     4600                 2\n"
          ]
        }
      ]
    },
    {
      "cell_type": "code",
      "source": [
        "# IS NULL\n",
        "query = \"\"\"\n",
        "SELECT\n",
        "*\n",
        "FROM tb_funcionarios\n",
        "WHERE ÁREA IS NULL\n",
        "\"\"\"\n",
        "result_df = run_query(query)\n",
        "print(result_df)"
      ],
      "metadata": {
        "colab": {
          "base_uri": "https://localhost:8080/"
        },
        "id": "zX7DmiJw619E",
        "outputId": "9591d027-600a-44b7-d90f-8fcfc30dfa36"
      },
      "execution_count": 24,
      "outputs": [
        {
          "output_type": "stream",
          "name": "stdout",
          "text": [
            "Empty DataFrame\n",
            "Columns: [ID, ÁREA, CARGO, SALÁRIO, TEMPO_NA_EMPRESA]\n",
            "Index: []\n"
          ]
        }
      ]
    },
    {
      "cell_type": "code",
      "source": [
        "# IS NOT NULL\n",
        "query = \"\"\"\n",
        "SELECT\n",
        "*\n",
        "FROM tb_funcionarios\n",
        "WHERE ÁREA IS NOT NULL\n",
        "\"\"\"\n",
        "result_df = run_query(query)\n",
        "print(result_df)"
      ],
      "metadata": {
        "colab": {
          "base_uri": "https://localhost:8080/"
        },
        "id": "quXJ1OUi66fv",
        "outputId": "b2e4b693-00f9-4f1e-fa63-42f226637954"
      },
      "execution_count": 25,
      "outputs": [
        {
          "output_type": "stream",
          "name": "stdout",
          "text": [
            "    ID       ÁREA   CARGO  SALÁRIO  TEMPO_NA_EMPRESA\n",
            "0  136         TI  JUNIOR     2500                 0\n",
            "1  125         TI  SENIOR     6000                 1\n",
            "2  148         TI  SENIOR     6000                 2\n",
            "3  456        ADM   PLENO     4500                 2\n",
            "4  345        ADM   PLENO     4600                 4\n",
            "5  254        ADM  SENIOR     5600                 5\n",
            "6  178        ADM  JUNIOR     2200                 0\n",
            "7  365  MARKETING  JUNIOR     2300                 1\n",
            "8  145  MARKETING  SENIOR     5500                 3\n",
            "9  258  MARKETING   PLENO     4600                 2\n"
          ]
        }
      ]
    },
    {
      "cell_type": "markdown",
      "source": [
        "\n",
        "# Agrupamentos e Ordenação de Dados"
      ],
      "metadata": {
        "id": "s4TOqmbDrjFi"
      }
    },
    {
      "cell_type": "code",
      "source": [
        "query = \"\"\"\n",
        "SELECT\n",
        "*\n",
        "FROM tb_funcionarios\n",
        "ORDER BY SALÁRIO DESC\n",
        "\"\"\"\n",
        "result_df = run_query(query)\n",
        "print(result_df)"
      ],
      "metadata": {
        "colab": {
          "base_uri": "https://localhost:8080/"
        },
        "id": "cgcDV1iSrr80",
        "outputId": "1fd4263c-606d-49ee-e727-e2b5986f20a3"
      },
      "execution_count": 26,
      "outputs": [
        {
          "output_type": "stream",
          "name": "stdout",
          "text": [
            "    ID       ÁREA   CARGO  SALÁRIO  TEMPO_NA_EMPRESA\n",
            "0  125         TI  SENIOR     6000                 1\n",
            "1  148         TI  SENIOR     6000                 2\n",
            "2  254        ADM  SENIOR     5600                 5\n",
            "3  145  MARKETING  SENIOR     5500                 3\n",
            "4  345        ADM   PLENO     4600                 4\n",
            "5  258  MARKETING   PLENO     4600                 2\n",
            "6  456        ADM   PLENO     4500                 2\n",
            "7  136         TI  JUNIOR     2500                 0\n",
            "8  365  MARKETING  JUNIOR     2300                 1\n",
            "9  178        ADM  JUNIOR     2200                 0\n"
          ]
        }
      ]
    },
    {
      "cell_type": "code",
      "source": [
        "query = \"\"\"\n",
        "SELECT\n",
        "*\n",
        "FROM tb_funcionarios\n",
        "ORDER BY SALÁRIO ASC\n",
        "\"\"\"\n",
        "result_df = run_query(query)\n",
        "print(result_df)"
      ],
      "metadata": {
        "colab": {
          "base_uri": "https://localhost:8080/"
        },
        "id": "YofXVKG1sS2z",
        "outputId": "3628ccf5-5c01-417e-e835-b7e2a387223c"
      },
      "execution_count": 27,
      "outputs": [
        {
          "output_type": "stream",
          "name": "stdout",
          "text": [
            "    ID       ÁREA   CARGO  SALÁRIO  TEMPO_NA_EMPRESA\n",
            "0  178        ADM  JUNIOR     2200                 0\n",
            "1  365  MARKETING  JUNIOR     2300                 1\n",
            "2  136         TI  JUNIOR     2500                 0\n",
            "3  456        ADM   PLENO     4500                 2\n",
            "4  345        ADM   PLENO     4600                 4\n",
            "5  258  MARKETING   PLENO     4600                 2\n",
            "6  145  MARKETING  SENIOR     5500                 3\n",
            "7  254        ADM  SENIOR     5600                 5\n",
            "8  125         TI  SENIOR     6000                 1\n",
            "9  148         TI  SENIOR     6000                 2\n"
          ]
        }
      ]
    },
    {
      "cell_type": "markdown",
      "source": [
        "Você pode usar a cláusula ORDER BY para ordenar os resultados de uma consulta SQL por duas ou mais colunas. Quando você especifica múltiplas colunas na cláusula ORDER BY, os resultados são ordenados pela primeira coluna e, em caso de empate, pela segunda coluna, e assim por diante."
      ],
      "metadata": {
        "id": "3TzKlltysoHN"
      }
    },
    {
      "cell_type": "code",
      "source": [
        "query = \"\"\"\n",
        "SELECT\n",
        "*\n",
        "FROM tb_funcionarios\n",
        "ORDER BY SALÁRIO, TEMPO_NA_EMPRESA ASC\n",
        "\"\"\"\n",
        "result_df = run_query(query)\n",
        "print(result_df)"
      ],
      "metadata": {
        "colab": {
          "base_uri": "https://localhost:8080/"
        },
        "id": "GKX8uN67sVky",
        "outputId": "2326c380-7e5b-4d66-a38f-c3d2883e6143"
      },
      "execution_count": 28,
      "outputs": [
        {
          "output_type": "stream",
          "name": "stdout",
          "text": [
            "    ID       ÁREA   CARGO  SALÁRIO  TEMPO_NA_EMPRESA\n",
            "0  178        ADM  JUNIOR     2200                 0\n",
            "1  365  MARKETING  JUNIOR     2300                 1\n",
            "2  136         TI  JUNIOR     2500                 0\n",
            "3  456        ADM   PLENO     4500                 2\n",
            "4  258  MARKETING   PLENO     4600                 2\n",
            "5  345        ADM   PLENO     4600                 4\n",
            "6  145  MARKETING  SENIOR     5500                 3\n",
            "7  254        ADM  SENIOR     5600                 5\n",
            "8  125         TI  SENIOR     6000                 1\n",
            "9  148         TI  SENIOR     6000                 2\n"
          ]
        }
      ]
    },
    {
      "cell_type": "code",
      "source": [
        "query = \"\"\"\n",
        "SELECT\n",
        "ÁREA,\n",
        "SUM(SALÁRIO) AS TOTAL_SALARIOS\n",
        "FROM tb_funcionarios\n",
        "GROUP BY ÁREA\n",
        "\"\"\"\n",
        "result_df = run_query(query)\n",
        "print(result_df)"
      ],
      "metadata": {
        "colab": {
          "base_uri": "https://localhost:8080/"
        },
        "id": "FxfHajqjszeI",
        "outputId": "a4d6f8f1-ee7b-4ce1-bf92-dfe4e2f8790a"
      },
      "execution_count": 29,
      "outputs": [
        {
          "output_type": "stream",
          "name": "stdout",
          "text": [
            "        ÁREA  TOTAL_SALARIOS\n",
            "0        ADM           16900\n",
            "1  MARKETING           12400\n",
            "2         TI           14500\n"
          ]
        }
      ]
    },
    {
      "cell_type": "code",
      "source": [
        "query = \"\"\"\n",
        "SELECT\n",
        "ÁREA,\n",
        "AVG(SALÁRIO) AS MEDIA_SALARIOS\n",
        "FROM tb_funcionarios\n",
        "GROUP BY ÁREA\n",
        "\"\"\"\n",
        "result_df = run_query(query)\n",
        "print(result_df)"
      ],
      "metadata": {
        "colab": {
          "base_uri": "https://localhost:8080/"
        },
        "id": "LlUG8YhitB1i",
        "outputId": "eac48293-d7f6-4eb0-9243-f0bf751c4eca"
      },
      "execution_count": 30,
      "outputs": [
        {
          "output_type": "stream",
          "name": "stdout",
          "text": [
            "        ÁREA  MEDIA_SALARIOS\n",
            "0        ADM     4225.000000\n",
            "1  MARKETING     4133.333333\n",
            "2         TI     4833.333333\n"
          ]
        }
      ]
    },
    {
      "cell_type": "code",
      "source": [
        "query = \"\"\"\n",
        "SELECT\n",
        "ÁREA,\n",
        "AVG(SALÁRIO) AS MEDIA_SALARIOS,\n",
        "SUM(SALÁRIO) AS TOTAL_SALARIOS\n",
        "FROM tb_funcionarios\n",
        "GROUP BY ÁREA\n",
        "\"\"\"\n",
        "result_df = run_query(query)\n",
        "print(result_df)"
      ],
      "metadata": {
        "colab": {
          "base_uri": "https://localhost:8080/"
        },
        "id": "Kw8-r0NntFoc",
        "outputId": "af4c2b24-e94b-46fb-ad7a-4cb9dd81135e"
      },
      "execution_count": 31,
      "outputs": [
        {
          "output_type": "stream",
          "name": "stdout",
          "text": [
            "        ÁREA  MEDIA_SALARIOS  TOTAL_SALARIOS\n",
            "0        ADM     4225.000000           16900\n",
            "1  MARKETING     4133.333333           12400\n",
            "2         TI     4833.333333           14500\n"
          ]
        }
      ]
    },
    {
      "cell_type": "code",
      "source": [
        "query = \"\"\"\n",
        "SELECT\n",
        "ÁREA,\n",
        "CARGO,\n",
        "AVG(SALÁRIO) AS MEDIA_SALARIOS,\n",
        "SUM(SALÁRIO) AS TOTAL_SALARIOS\n",
        "FROM tb_funcionarios\n",
        "GROUP BY ÁREA, CARGO\n",
        "\"\"\"\n",
        "result_df = run_query(query)\n",
        "print(result_df)"
      ],
      "metadata": {
        "colab": {
          "base_uri": "https://localhost:8080/"
        },
        "id": "q5r0-OqqtKkw",
        "outputId": "00d9134e-0568-4125-e198-bbdcaebce3c7"
      },
      "execution_count": 32,
      "outputs": [
        {
          "output_type": "stream",
          "name": "stdout",
          "text": [
            "        ÁREA   CARGO  MEDIA_SALARIOS  TOTAL_SALARIOS\n",
            "0        ADM  JUNIOR          2200.0            2200\n",
            "1        ADM   PLENO          4550.0            9100\n",
            "2        ADM  SENIOR          5600.0            5600\n",
            "3  MARKETING  JUNIOR          2300.0            2300\n",
            "4  MARKETING   PLENO          4600.0            4600\n",
            "5  MARKETING  SENIOR          5500.0            5500\n",
            "6         TI  JUNIOR          2500.0            2500\n",
            "7         TI  SENIOR          6000.0           12000\n"
          ]
        }
      ]
    },
    {
      "cell_type": "markdown",
      "source": [
        "\n",
        "# Treinando"
      ],
      "metadata": {
        "id": "4mr9pUsJtQ_A"
      }
    },
    {
      "cell_type": "markdown",
      "source": [
        "Nos últimos 2 módulos aprendemos diversas formas de montarmos consultas (query) usando o SQL.\n",
        "Como a grandee maioria aprendemos de forma isolada é hora de treinarmos alguns cenários utilizando mais de 1 técnica vista."
      ],
      "metadata": {
        "id": "JFqrUqUTtXDy"
      }
    },
    {
      "cell_type": "markdown",
      "source": [
        "# Ex.1 Montar uma query que traz os IDs e Cargos de funcionários TI que tem salário superior a 3000."
      ],
      "metadata": {
        "id": "SGOsgWjhtjVV"
      }
    },
    {
      "cell_type": "markdown",
      "source": [
        "**Interpretação**\n",
        "\n",
        "Colunas: IDs e Cargos\n",
        "\n",
        "Filtros: Área de TI e Salário Superior a 3000.\n",
        "\n",
        "Agrupamento: Não\n",
        "\n",
        "Ordenação: Não\n",
        "\n",
        "Distintos: Não\n",
        "\n",
        "Origem: tb_funcionários"
      ],
      "metadata": {
        "id": "SrqGKMAZt0fO"
      }
    },
    {
      "cell_type": "code",
      "source": [
        "query = \"\"\"\n",
        "SELECT\n",
        "ID,\n",
        "CARGO\n",
        "FROM tb_funcionarios\n",
        "WHERE ÁREA IN ('TI')\n",
        "AND SALÁRIO > 3000\n",
        "\"\"\"\n",
        "result_df = run_query(query)\n",
        "print(result_df)"
      ],
      "metadata": {
        "colab": {
          "base_uri": "https://localhost:8080/"
        },
        "id": "wpbvv46EuN1H",
        "outputId": "cde49efe-79e7-40ea-c031-8f5b845e9fe6"
      },
      "execution_count": 33,
      "outputs": [
        {
          "output_type": "stream",
          "name": "stdout",
          "text": [
            "    ID   CARGO\n",
            "0  125  SENIOR\n",
            "1  148  SENIOR\n"
          ]
        }
      ]
    },
    {
      "cell_type": "markdown",
      "source": [
        "# Ex.2 Montar uma query os ID e salários dos funcionários de Marketing e Adm ordenados do maior para o menor salário."
      ],
      "metadata": {
        "id": "Pgsf_5wkunuu"
      }
    },
    {
      "cell_type": "markdown",
      "source": [
        "**Interpretação**\n",
        "\n",
        "Colunas: IDs e Salário\n",
        "\n",
        "Filtros: Área de Adm e Marketing\n",
        "\n",
        "Agrupamento: Não\n",
        "\n",
        "Ordenação: Sim, Salário Desc\n",
        "\n",
        "Distintos: Não\n",
        "\n",
        "Origem: tb_funcionários"
      ],
      "metadata": {
        "id": "oPLqtbQdu45U"
      }
    },
    {
      "cell_type": "code",
      "source": [
        "query = \"\"\"\n",
        "SELECT\n",
        "ID,\n",
        "SALÁRIO\n",
        "FROM tb_funcionarios\n",
        "WHERE ÁREA IN ('ADM','MARKETING')\n",
        "ORDER BY SALÁRIO DESC\n",
        "\"\"\"\n",
        "result_df = run_query(query)\n",
        "print(result_df)"
      ],
      "metadata": {
        "colab": {
          "base_uri": "https://localhost:8080/"
        },
        "id": "3y_45YBou4dV",
        "outputId": "1de1b3de-f682-4dec-cdca-4b64db0ac611"
      },
      "execution_count": 34,
      "outputs": [
        {
          "output_type": "stream",
          "name": "stdout",
          "text": [
            "    ID  SALÁRIO\n",
            "0  254     5600\n",
            "1  145     5500\n",
            "2  345     4600\n",
            "3  258     4600\n",
            "4  456     4500\n",
            "5  365     2300\n",
            "6  178     2200\n"
          ]
        }
      ]
    },
    {
      "cell_type": "markdown",
      "source": [
        "# Ex.3 Montar uma query que traga apenas os 3 maiores salários com suas respectivas áreas."
      ],
      "metadata": {
        "id": "_c4VhI-vvpY0"
      }
    },
    {
      "cell_type": "markdown",
      "source": [
        "**Interpretação**\n",
        "\n",
        "Colunas: Área e Salário\n",
        "\n",
        "Filtros: Não\n",
        "\n",
        "Agrupamento: Não\n",
        "\n",
        "Ordenação: Sim, Salário Desc\n",
        "\n",
        "Distintos: Não\n",
        "\n",
        "Origem: tb_funcionários\n",
        "\n",
        "Limite: 3"
      ],
      "metadata": {
        "id": "0VzDBaJ5v0br"
      }
    },
    {
      "cell_type": "code",
      "source": [
        "query = \"\"\"\n",
        "SELECT\n",
        "ÁREA,\n",
        "SALÁRIO\n",
        "FROM tb_funcionarios\n",
        "ORDER BY SALÁRIO DESC\n",
        "LIMIT 3\n",
        "\"\"\"\n",
        "result_df = run_query(query)\n",
        "print(result_df)"
      ],
      "metadata": {
        "colab": {
          "base_uri": "https://localhost:8080/"
        },
        "id": "45ZI1vsNv8Wy",
        "outputId": "c6808d39-1d99-439c-9707-141ebfb3505d"
      },
      "execution_count": 35,
      "outputs": [
        {
          "output_type": "stream",
          "name": "stdout",
          "text": [
            "  ÁREA  SALÁRIO\n",
            "0   TI     6000\n",
            "1   TI     6000\n",
            "2  ADM     5600\n"
          ]
        }
      ]
    },
    {
      "cell_type": "markdown",
      "source": [
        "# Ex.4 Montar uma query que retorne as áreas e soma dos salários agrupado por área e ordene do maior salário para o menos."
      ],
      "metadata": {
        "id": "Lezgz6kxwGBR"
      }
    },
    {
      "cell_type": "markdown",
      "source": [
        "**Interpretação**\n",
        "\n",
        "Colunas: Área e Salário\n",
        "\n",
        "Filtros: Não\n",
        "\n",
        "Agrupamento: Sim, Área\n",
        "\n",
        "Ordenação: Sim, Salário Desc\n",
        "\n",
        "Distintos: Não\n",
        "\n",
        "Origem: tb_funcionários\n"
      ],
      "metadata": {
        "id": "b1wYbRFoybW6"
      }
    },
    {
      "cell_type": "code",
      "source": [
        "query = \"\"\"\n",
        "SELECT\n",
        "ÁREA,\n",
        "sum(SALÁRIO) as SALÁRIO_TOTAL\n",
        "FROM tb_funcionarios\n",
        "GROUP BY ÁREA\n",
        "ORDER BY SALÁRIO DESC\n",
        "\"\"\"\n",
        "result_df = run_query(query)\n",
        "print(result_df)"
      ],
      "metadata": {
        "colab": {
          "base_uri": "https://localhost:8080/"
        },
        "id": "AYKa5x5IwFi-",
        "outputId": "dc614f3f-e767-4fe5-a039-5b5718f9caa0"
      },
      "execution_count": 36,
      "outputs": [
        {
          "output_type": "stream",
          "name": "stdout",
          "text": [
            "        ÁREA  SALÁRIO_TOTAL\n",
            "0        ADM          16900\n",
            "1         TI          14500\n",
            "2  MARKETING          12400\n"
          ]
        }
      ]
    },
    {
      "cell_type": "markdown",
      "source": [
        "# Ex.5 Montar uma query que retorne as áreas, os cargos e soma dos salários e a média do tempo empresa, agrupado por área e ordene do maior salário para o menos."
      ],
      "metadata": {
        "id": "W1k3Y4kWyrlO"
      }
    },
    {
      "cell_type": "markdown",
      "source": [
        "**Interpretação**\n",
        "\n",
        "Colunas: Área, Cargo, Salário, Tempo Empresa\n",
        "\n",
        "Filtros: Não\n",
        "\n",
        "Agrupamento: Sim, Área e Cargo\n",
        "\n",
        "Ordenação: Sim, Salário Desc\n",
        "\n",
        "Distintos: Não\n",
        "\n",
        "Origem: tb_funcionários"
      ],
      "metadata": {
        "id": "3edh5GA6y8Yz"
      }
    },
    {
      "cell_type": "code",
      "source": [
        "query = \"\"\"\n",
        "SELECT\n",
        "ÁREA,\n",
        "CARGO,\n",
        "SUM(SALÁRIO) as SALÁRIO_TOTAL,\n",
        "AVG(TEMPO_NA_EMPRESA) AS MED_TEMP_EMPRESA\n",
        "FROM tb_funcionarios\n",
        "GROUP BY ÁREA, CARGO\n",
        "ORDER BY SALÁRIO DESC\n",
        "\"\"\"\n",
        "result_df = run_query(query)\n",
        "print(result_df)"
      ],
      "metadata": {
        "colab": {
          "base_uri": "https://localhost:8080/"
        },
        "id": "5TJrQVT5zMW2",
        "outputId": "a58261de-639c-401b-bc5c-71a3fc249d9f"
      },
      "execution_count": 37,
      "outputs": [
        {
          "output_type": "stream",
          "name": "stdout",
          "text": [
            "        ÁREA   CARGO  SALÁRIO_TOTAL  MED_TEMP_EMPRESA\n",
            "0         TI  SENIOR          12000               1.5\n",
            "1        ADM  SENIOR           5600               5.0\n",
            "2  MARKETING  SENIOR           5500               3.0\n",
            "3  MARKETING   PLENO           4600               2.0\n",
            "4        ADM   PLENO           9100               3.0\n",
            "5         TI  JUNIOR           2500               0.0\n",
            "6  MARKETING  JUNIOR           2300               1.0\n",
            "7        ADM  JUNIOR           2200               0.0\n"
          ]
        }
      ]
    }
  ]
}